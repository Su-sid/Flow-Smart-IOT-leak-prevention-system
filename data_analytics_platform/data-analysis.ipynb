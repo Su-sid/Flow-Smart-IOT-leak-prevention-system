{
 "cells": [
  {
   "cell_type": "code",
   "execution_count": null,
   "id": "cc80ddfc",
   "metadata": {},
   "outputs": [],
   "source": [
    "import sys\n",
    "import os\n",
    "\n",
    "import json\n",
    "import numpy as np\n",
    "from skmultiflow.drift_detection import PageHinkley"
   ]
  },
  {
   "cell_type": "markdown",
   "id": "e685cb8e",
   "metadata": {},
   "source": [
    "#### Load the Sensor Data\n",
    "Load the sensor data from the JSON file. Replace path_to_your_file with the actual path to your JSON file."
   ]
  },
  {
   "cell_type": "code",
   "execution_count": 4,
   "id": "46506bf2",
   "metadata": {},
   "outputs": [],
   "source": [
    "import pandas as pd\n",
    "\n",
    "file_path = 'sensor_readings.json'  # Replace with your file path\n",
    "with open(file_path, 'r') as file:\n",
    "    sensor_data = json.load(file)\n",
    "#print(sensor_data)\n",
    "df = pd.DataFrame(sensor_data)"
   ]
  },
  {
   "cell_type": "code",
   "execution_count": 5,
   "id": "b86fd239",
   "metadata": {},
   "outputs": [
    {
     "name": "stdout",
     "output_type": "stream",
     "text": [
      "<class 'pandas.core.frame.DataFrame'>\n",
      "RangeIndex: 61 entries, 0 to 60\n",
      "Data columns (total 3 columns):\n",
      " #   Column              Non-Null Count  Dtype \n",
      "---  ------              --------------  ----- \n",
      " 0   date                61 non-null     object\n",
      " 1   flow_rate_readings  61 non-null     object\n",
      " 2   pressure_readings   61 non-null     object\n",
      "dtypes: object(3)\n",
      "memory usage: 1.6+ KB\n"
     ]
    }
   ],
   "source": [
    "# Display the first few rows of the DataFrame\n",
    "df.head()\n",
    "\n",
    "# Display DataFrame information (data types, non-null values, etc.)\n",
    "df.info()\n"
   ]
  },
  {
   "cell_type": "markdown",
   "id": "86300259",
   "metadata": {},
   "source": [
    "check for missing values in the data "
   ]
  },
  {
   "cell_type": "code",
   "execution_count": 6,
   "id": "ea120ad6",
   "metadata": {
    "collapsed": true
   },
   "outputs": [
    {
     "name": "stdout",
     "output_type": "stream",
     "text": [
      "date                  0\n",
      "flow_rate_readings    0\n",
      "pressure_readings     0\n",
      "dtype: int64\n"
     ]
    }
   ],
   "source": [
    "# Check for missing values\n",
    "missing_values = df.isnull().sum()\n",
    "print(missing_values)\n"
   ]
  },
  {
   "cell_type": "markdown",
   "id": "4024f46e",
   "metadata": {},
   "source": [
    "Ensure that all the data are correct"
   ]
  },
  {
   "cell_type": "code",
   "execution_count": 7,
   "id": "f8cf0be4",
   "metadata": {},
   "outputs": [
    {
     "name": "stdout",
     "output_type": "stream",
     "text": [
      "date                  object\n",
      "flow_rate_readings    object\n",
      "pressure_readings     object\n",
      "dtype: object\n"
     ]
    }
   ],
   "source": [
    "# Check data types\n",
    "print(df.dtypes)\n"
   ]
  },
  {
   "cell_type": "code",
   "execution_count": 8,
   "id": "b43b02b3",
   "metadata": {
    "collapsed": true
   },
   "outputs": [
    {
     "data": {
      "text/html": [
       "<div>\n",
       "<style scoped>\n",
       "    .dataframe tbody tr th:only-of-type {\n",
       "        vertical-align: middle;\n",
       "    }\n",
       "\n",
       "    .dataframe tbody tr th {\n",
       "        vertical-align: top;\n",
       "    }\n",
       "\n",
       "    .dataframe thead th {\n",
       "        text-align: right;\n",
       "    }\n",
       "</style>\n",
       "<table border=\"1\" class=\"dataframe\">\n",
       "  <thead>\n",
       "    <tr style=\"text-align: right;\">\n",
       "      <th></th>\n",
       "      <th>date</th>\n",
       "      <th>flow_rate_readings</th>\n",
       "      <th>pressure_readings</th>\n",
       "    </tr>\n",
       "  </thead>\n",
       "  <tbody>\n",
       "    <tr>\n",
       "      <th>count</th>\n",
       "      <td>61</td>\n",
       "      <td>61</td>\n",
       "      <td>61</td>\n",
       "    </tr>\n",
       "    <tr>\n",
       "      <th>unique</th>\n",
       "      <td>61</td>\n",
       "      <td>61</td>\n",
       "      <td>61</td>\n",
       "    </tr>\n",
       "    <tr>\n",
       "      <th>top</th>\n",
       "      <td>2023-10-01</td>\n",
       "      <td>[11, 25, 7, 32, 21, 19, 16, 18, 22, 30, 21, 18...</td>\n",
       "      <td>[34, 52, 39, 64, 79, 31, 30, 139, 62, 32, 60, ...</td>\n",
       "    </tr>\n",
       "    <tr>\n",
       "      <th>freq</th>\n",
       "      <td>1</td>\n",
       "      <td>1</td>\n",
       "      <td>1</td>\n",
       "    </tr>\n",
       "  </tbody>\n",
       "</table>\n",
       "</div>"
      ],
      "text/plain": [
       "              date                                 flow_rate_readings  \\\n",
       "count           61                                                 61   \n",
       "unique          61                                                 61   \n",
       "top     2023-10-01  [11, 25, 7, 32, 21, 19, 16, 18, 22, 30, 21, 18...   \n",
       "freq             1                                                  1   \n",
       "\n",
       "                                        pressure_readings  \n",
       "count                                                  61  \n",
       "unique                                                 61  \n",
       "top     [34, 52, 39, 64, 79, 31, 30, 139, 62, 32, 60, ...  \n",
       "freq                                                    1  "
      ]
     },
     "execution_count": 8,
     "metadata": {},
     "output_type": "execute_result"
    }
   ],
   "source": [
    "# Statistical summary\n",
    "df.describe()"
   ]
  },
  {
   "cell_type": "code",
   "execution_count": 9,
   "id": "c259acf5",
   "metadata": {},
   "outputs": [],
   "source": [
    "#initialize the algorithm"
   ]
  },
  {
   "cell_type": "code",
   "execution_count": 10,
   "id": "a3a8fa68",
   "metadata": {},
   "outputs": [],
   "source": [
    "# from skmultiflow.drift_detection import PageHinkley\n",
    "\n",
    "ph = PageHinkley(min_instances=30, delta=0.005, threshold=50, alpha=0.9999)\n"
   ]
  },
  {
   "cell_type": "markdown",
   "id": "cf0a0eba",
   "metadata": {},
   "source": [
    "Iterate Over Data and Detect Drift\n",
    "Apply the Page-Hinkley method to your data. "
   ]
  },
  {
   "cell_type": "code",
   "execution_count": 11,
   "id": "206e7342",
   "metadata": {},
   "outputs": [
    {
     "name": "stdout",
     "output_type": "stream",
     "text": [
      "Change detected on 2023-10-29 at index: 28, value: 26\n",
      "Change detected on 2023-10-29 at index: 138, value: 81\n",
      "Change detected on 2023-10-29 at index: 175, value: 87\n",
      "Change detected on 2023-10-29 at index: 204, value: 10\n",
      "Change detected on 2023-10-29 at index: 267, value: 95\n",
      "Change detected on 2023-10-29 at index: 316, value: 89\n",
      "Change detected on 2023-10-29 at index: 345, value: 21\n",
      "Change detected on 2023-10-29 at index: 409, value: 65\n"
     ]
    }
   ],
   "source": [
    "\n",
    "# Adjusting the provided code to filter and analyze data for November 30, 2023\n",
    "target_date = '2023-10-29'  # Updated target date\n",
    "\n",
    "# Filter the DataFrame for the target date\n",
    "target_day_data = df[df['date'] == target_date]\n",
    "\n",
    "# Initialize the Page-Hinkley change detection\n",
    "change_points = []\n",
    "\n",
    "if not target_day_data.empty:\n",
    "    # Assuming 'flow_rate_readings' contains the readings for the day\n",
    "    day_readings = target_day_data['flow_rate_readings'].iloc[0]\n",
    "\n",
    "    # Initialize Page-Hinkley method\n",
    "    ph = PageHinkley(min_instances=30, delta=0.005, threshold=50, alpha=0.9999)\n",
    "\n",
    "    for i, value in enumerate(day_readings):\n",
    "        ph.add_element(value)\n",
    "        if ph.detected_change():\n",
    "            print(f\"Change detected on {target_date} at index: {i}, value: {value}\")\n",
    "            change_points.append((target_date, i, value))\n",
    "else:\n",
    "    print(f\"No data available for {target_date}\")\n"
   ]
  },
  {
   "cell_type": "code",
   "execution_count": 12,
   "id": "1c7127ee",
   "metadata": {
    "scrolled": true
   },
   "outputs": [
    {
     "name": "stdout",
     "output_type": "stream",
     "text": [
      "Flow rate change detected on 2023-10-29 at index: 28, value: 26\n",
      "Flow rate change detected on 2023-10-29 at index: 138, value: 81\n",
      "Flow rate change detected on 2023-10-29 at index: 175, value: 87\n",
      "Flow rate change detected on 2023-10-29 at index: 204, value: 10\n",
      "Flow rate change detected on 2023-10-29 at index: 267, value: 95\n",
      "Flow rate change detected on 2023-10-29 at index: 316, value: 89\n",
      "Flow rate change detected on 2023-10-29 at index: 345, value: 21\n",
      "Flow rate change detected on 2023-10-29 at index: 409, value: 65\n",
      "Pressure change detected on 2023-10-29 at index: 103, value: 72\n",
      "Pressure change detected on 2023-10-29 at index: 132, value: 71\n",
      "Pressure change detected on 2023-10-29 at index: 161, value: 75\n",
      "Pressure change detected on 2023-10-29 at index: 190, value: 55\n",
      "Pressure change detected on 2023-10-29 at index: 247, value: 85\n",
      "Pressure change detected on 2023-10-29 at index: 276, value: 133\n",
      "Pressure change detected on 2023-10-29 at index: 305, value: 45\n",
      "Pressure change detected on 2023-10-29 at index: 369, value: 130\n",
      "Pressure change detected on 2023-10-29 at index: 416, value: 75\n"
     ]
    }
   ],
   "source": [
    "target_date = '2023-10-29'  # Target date for analysis\n",
    "\n",
    "# Filter the DataFrame for the target date\n",
    "target_day_data = df[df['date'] == target_date]\n",
    "\n",
    "# Initialize the Page-Hinkley change detection for both flow rate and pressure\n",
    "change_points_flow = []\n",
    "change_points_pressure = []\n",
    "\n",
    "# Initialize Page-Hinkley method\n",
    "ph_flow = PageHinkley(min_instances=30, delta=0.005, threshold=50, alpha=0.9999)\n",
    "ph_pressure = PageHinkley(min_instances=30, delta=0.005, threshold=50, alpha=0.9999)\n",
    "\n",
    "if not target_day_data.empty:\n",
    "    # Analyze flow rate readings\n",
    "    if 'flow_rate_readings' in target_day_data.columns:\n",
    "        day_flow_readings = target_day_data['flow_rate_readings'].iloc[0]\n",
    "        for i, value in enumerate(day_flow_readings):\n",
    "            ph_flow.add_element(value)\n",
    "            if ph_flow.detected_change():\n",
    "                print(f\"Flow rate change detected on {target_date} at index: {i}, value: {value}\")\n",
    "                change_points_flow.append((target_date, i, value))\n",
    "\n",
    "    # Analyze pressure readings\n",
    "    if 'pressure_readings' in target_day_data.columns:\n",
    "        day_pressure_readings = target_day_data['pressure_readings'].iloc[0]\n",
    "        for i, value in enumerate(day_pressure_readings):\n",
    "            ph_pressure.add_element(value)\n",
    "            if ph_pressure.detected_change():\n",
    "                print(f\"Pressure change detected on {target_date} at index: {i}, value: {value}\")\n",
    "                change_points_pressure.append((target_date, i, value))\n",
    "else:\n",
    "    print(f\"No data available for {target_date}\")\n",
    "\n",
    "# Output the change points\n",
    "# change_points_flow, change_points_pressure\n"
   ]
  },
  {
   "cell_type": "code",
   "execution_count": 13,
   "id": "47ad1cf8",
   "metadata": {},
   "outputs": [
    {
     "name": "stdout",
     "output_type": "stream",
     "text": [
      "[('2023-10-29', 28, 26), ('2023-10-29', 138, 81), ('2023-10-29', 175, 87), ('2023-10-29', 204, 10), ('2023-10-29', 267, 95), ('2023-10-29', 316, 89), ('2023-10-29', 345, 21), ('2023-10-29', 409, 65)]\n"
     ]
    }
   ],
   "source": [
    "print( change_points_flow)"
   ]
  },
  {
   "cell_type": "code",
   "execution_count": 14,
   "id": "614c1bb9",
   "metadata": {},
   "outputs": [],
   "source": [
    "#  function that detects a \"possible error\" based on three consecutive indices where a change was detected"
   ]
  },
  {
   "cell_type": "code",
   "execution_count": 15,
   "id": "a7c6506d",
   "metadata": {},
   "outputs": [
    {
     "name": "stdout",
     "output_type": "stream",
     "text": [
      "Possible error in flow rate readings: []\n",
      "Possible error in pressure readings: []\n"
     ]
    }
   ],
   "source": [
    "def find_consecutive_changes(change_points):\n",
    "    error_ranges = []\n",
    "    for i in range(len(change_points) - 5):\n",
    "        # Check if three consecutive indices are present\n",
    "        if change_points[i][1] == change_points[i + 1][1] - 1 == change_points[i + 2][1] - 2:\n",
    "            error_range = (change_points[i][1], change_points[i + 2][1])\n",
    "            error_ranges.append(error_range)\n",
    "    \n",
    "    return error_ranges\n",
    "\n",
    "# Apply the function to the flow rate and pressure change points\n",
    "error_ranges_flow = find_consecutive_changes(change_points_flow)\n",
    "error_ranges_pressure = find_consecutive_changes(change_points_pressure)\n",
    "\n",
    "# Output the error ranges\n",
    "print(\"Possible error in flow rate readings:\", error_ranges_flow)\n",
    "print(\"Possible error in pressure readings:\", error_ranges_pressure)\n"
   ]
  },
  {
   "cell_type": "code",
   "execution_count": null,
   "id": "8d1faa10",
   "metadata": {},
   "outputs": [],
   "source": []
  }
 ],
 "metadata": {
  "kernelspec": {
   "display_name": "venv",
   "language": "python",
   "name": "python3"
  },
  "language_info": {
   "codemirror_mode": {
    "name": "ipython",
    "version": 3
   },
   "file_extension": ".py",
   "mimetype": "text/x-python",
   "name": "python",
   "nbconvert_exporter": "python",
   "pygments_lexer": "ipython3",
   "version": "3.13.2"
  }
 },
 "nbformat": 4,
 "nbformat_minor": 5
}
