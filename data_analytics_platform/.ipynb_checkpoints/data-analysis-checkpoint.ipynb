{
 "cells": [
  {
   "cell_type": "code",
   "execution_count": 5,
   "id": "13fb86f6",
   "metadata": {
    "collapsed": true
   },
   "outputs": [
    {
     "name": "stdout",
     "output_type": "stream",
     "text": [
      "Requirement already satisfied: Cython in c:\\users\\onesud\\anaconda3\\lib\\site-packages (3.0.6)\n",
      "Collecting git+https://github.com/scikit-multiflow/scikit-multiflow\n",
      "  Cloning https://github.com/scikit-multiflow/scikit-multiflow to c:\\users\\onesud\\appdata\\local\\temp\\pip-req-build-_io8jatg\n",
      "  Resolved https://github.com/scikit-multiflow/scikit-multiflow to commit d073a706b5006cba2584761286b7fa17e74e87be\n",
      "  Preparing metadata (setup.py): started\n",
      "  Preparing metadata (setup.py): finished with status 'done'\n",
      "Requirement already satisfied: sortedcontainers>=1.5.7 in c:\\users\\onesud\\anaconda3\\lib\\site-packages (from scikit-multiflow==0.6.dev0) (2.4.0)\n",
      "Requirement already satisfied: numpy>=1.14.0 in c:\\users\\onesud\\anaconda3\\lib\\site-packages (from scikit-multiflow==0.6.dev0) (1.26.1)\n",
      "Requirement already satisfied: scipy>=1.0.0 in c:\\users\\onesud\\anaconda3\\lib\\site-packages (from scikit-multiflow==0.6.dev0) (1.11.1)\n",
      "Requirement already satisfied: matplotlib>=2.0.0 in c:\\users\\onesud\\anaconda3\\lib\\site-packages (from scikit-multiflow==0.6.dev0) (3.7.2)\n",
      "Requirement already satisfied: scikit-learn>=0.20 in c:\\users\\onesud\\anaconda3\\lib\\site-packages (from scikit-multiflow==0.6.dev0) (1.3.0)\n",
      "Requirement already satisfied: pandas>=0.25.3 in c:\\users\\onesud\\anaconda3\\lib\\site-packages (from scikit-multiflow==0.6.dev0) (2.0.3)\n",
      "Requirement already satisfied: contourpy>=1.0.1 in c:\\users\\onesud\\anaconda3\\lib\\site-packages (from matplotlib>=2.0.0->scikit-multiflow==0.6.dev0) (1.0.5)\n",
      "Requirement already satisfied: cycler>=0.10 in c:\\users\\onesud\\anaconda3\\lib\\site-packages (from matplotlib>=2.0.0->scikit-multiflow==0.6.dev0) (0.11.0)\n",
      "Requirement already satisfied: fonttools>=4.22.0 in c:\\users\\onesud\\anaconda3\\lib\\site-packages (from matplotlib>=2.0.0->scikit-multiflow==0.6.dev0) (4.25.0)\n",
      "Requirement already satisfied: kiwisolver>=1.0.1 in c:\\users\\onesud\\anaconda3\\lib\\site-packages (from matplotlib>=2.0.0->scikit-multiflow==0.6.dev0) (1.4.4)\n",
      "Requirement already satisfied: packaging>=20.0 in c:\\users\\onesud\\anaconda3\\lib\\site-packages (from matplotlib>=2.0.0->scikit-multiflow==0.6.dev0) (23.1)\n",
      "Requirement already satisfied: pillow>=6.2.0 in c:\\users\\onesud\\anaconda3\\lib\\site-packages (from matplotlib>=2.0.0->scikit-multiflow==0.6.dev0) (10.0.1)\n",
      "Requirement already satisfied: pyparsing<3.1,>=2.3.1 in c:\\users\\onesud\\anaconda3\\lib\\site-packages (from matplotlib>=2.0.0->scikit-multiflow==0.6.dev0) (3.0.9)\n",
      "Requirement already satisfied: python-dateutil>=2.7 in c:\\users\\onesud\\anaconda3\\lib\\site-packages (from matplotlib>=2.0.0->scikit-multiflow==0.6.dev0) (2.8.2)\n",
      "Requirement already satisfied: pytz>=2020.1 in c:\\users\\onesud\\anaconda3\\lib\\site-packages (from pandas>=0.25.3->scikit-multiflow==0.6.dev0) (2023.3.post1)\n",
      "Requirement already satisfied: tzdata>=2022.1 in c:\\users\\onesud\\anaconda3\\lib\\site-packages (from pandas>=0.25.3->scikit-multiflow==0.6.dev0) (2023.3)\n",
      "Requirement already satisfied: joblib>=1.1.1 in c:\\users\\onesud\\anaconda3\\lib\\site-packages (from scikit-learn>=0.20->scikit-multiflow==0.6.dev0) (1.2.0)\n",
      "Requirement already satisfied: threadpoolctl>=2.0.0 in c:\\users\\onesud\\anaconda3\\lib\\site-packages (from scikit-learn>=0.20->scikit-multiflow==0.6.dev0) (2.2.0)\n",
      "Requirement already satisfied: six>=1.5 in c:\\users\\onesud\\anaconda3\\lib\\site-packages (from python-dateutil>=2.7->matplotlib>=2.0.0->scikit-multiflow==0.6.dev0) (1.16.0)\n",
      "Building wheels for collected packages: scikit-multiflow\n",
      "  Building wheel for scikit-multiflow (setup.py): started\n",
      "  Building wheel for scikit-multiflow (setup.py): finished with status 'done'\n",
      "  Created wheel for scikit-multiflow: filename=scikit_multiflow-0.6.dev0-cp311-cp311-win_amd64.whl size=529633 sha256=ed6692afe51cbc02cc68149710f08ca82b0f36b4fff644b07c2848ba77ec230b\n",
      "  Stored in directory: C:\\Users\\OneSud\\AppData\\Local\\Temp\\pip-ephem-wheel-cache-5uecbtus\\wheels\\f6\\ed\\79\\59d47e1d9334dcecf350361d3df6d1fc31f8a56a0d9cd79e17\n",
      "Successfully built scikit-multiflow\n",
      "Installing collected packages: scikit-multiflow\n",
      "Successfully installed scikit-multiflow-0.6.dev0\n"
     ]
    },
    {
     "name": "stderr",
     "output_type": "stream",
     "text": [
      "  Running command git clone --filter=blob:none --quiet https://github.com/scikit-multiflow/scikit-multiflow 'C:\\Users\\OneSud\\AppData\\Local\\Temp\\pip-req-build-_io8jatg'\n"
     ]
    }
   ],
   "source": [
    "!pip install Cython\n",
    "!pip install git+https://github.com/scikit-multiflow/scikit-multiflow"
   ]
  },
  {
   "cell_type": "code",
   "execution_count": 14,
   "id": "cc80ddfc",
   "metadata": {},
   "outputs": [],
   "source": [
    "import json\n",
    "\n",
    "import numpy as np\n",
    "from skmultiflow.drift_detection import PageHinkley\n"
   ]
  },
  {
   "cell_type": "markdown",
   "id": "e685cb8e",
   "metadata": {},
   "source": [
    "#### Load the Sensor Data\n",
    "Load the sensor data from the JSON file. Replace path_to_your_file with the actual path to your JSON file."
   ]
  },
  {
   "cell_type": "code",
   "execution_count": 16,
   "id": "46506bf2",
   "metadata": {},
   "outputs": [
    {
     "ename": "NameError",
     "evalue": "name 'data' is not defined",
     "output_type": "error",
     "traceback": [
      "\u001b[1;31m---------------------------------------------------------------------------\u001b[0m",
      "\u001b[1;31mNameError\u001b[0m                                 Traceback (most recent call last)",
      "Cell \u001b[1;32mIn[16], line 7\u001b[0m\n\u001b[0;32m      5\u001b[0m     sensor_data \u001b[38;5;241m=\u001b[39m json\u001b[38;5;241m.\u001b[39mload(file)\n\u001b[0;32m      6\u001b[0m \u001b[38;5;66;03m#print(sensor_data)\u001b[39;00m\n\u001b[1;32m----> 7\u001b[0m df \u001b[38;5;241m=\u001b[39m pd\u001b[38;5;241m.\u001b[39mDataFrame(data)\n",
      "\u001b[1;31mNameError\u001b[0m: name 'data' is not defined"
     ]
    }
   ],
   "source": [
    "import pandas as pd\n",
    "\n",
    "file_path = 'sensor_readings.json'  # Replace with your file path\n",
    "with open(file_path, 'r') as file:\n",
    "    sensor_data = json.load(file)\n",
    "#print(sensor_data)\n",
    "df = pd.DataFrame(data)"
   ]
  },
  {
   "cell_type": "code",
   "execution_count": null,
   "id": "b86fd239",
   "metadata": {},
   "outputs": [],
   "source": [
    "# Display the first few rows of the DataFrame\n",
    "df.head()\n",
    "\n",
    "# Display DataFrame information (data types, non-null values, etc.)\n",
    "df.info()\n"
   ]
  }
 ],
 "metadata": {
  "kernelspec": {
   "display_name": "Python 3 (ipykernel)",
   "language": "python",
   "name": "python3"
  },
  "language_info": {
   "codemirror_mode": {
    "name": "ipython",
    "version": 3
   },
   "file_extension": ".py",
   "mimetype": "text/x-python",
   "name": "python",
   "nbconvert_exporter": "python",
   "pygments_lexer": "ipython3",
   "version": "3.11.5"
  }
 },
 "nbformat": 4,
 "nbformat_minor": 5
}
